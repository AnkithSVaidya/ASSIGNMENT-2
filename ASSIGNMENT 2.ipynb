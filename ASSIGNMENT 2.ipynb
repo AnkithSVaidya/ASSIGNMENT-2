{
  "nbformat": 4,
  "nbformat_minor": 0,
  "metadata": {
    "colab": {
      "name": "Untitled2.ipynb",
      "provenance": []
    },
    "kernelspec": {
      "name": "python3",
      "display_name": "Python 3"
    }
  },
  "cells": [
    {
      "cell_type": "markdown",
      "metadata": {
        "id": "ph7V2RWgYO8e"
      },
      "source": [
        "**QUESTION 1**\n",
        "Create an empty list. Accept 10 numbers from the user and append to it the list if it is an even number"
      ]
    },
    {
      "cell_type": "code",
      "metadata": {
        "id": "ZFHW0ZIuYEpX",
        "outputId": "111f78fc-ae39-4235-b7c7-318ea5cee5b6",
        "colab": {
          "base_uri": "https://localhost:8080/"
        }
      },
      "source": [
        "#creating an empty list\n",
        "lst = []\n",
        "\n",
        "#getting 10 values from the user\n",
        "for i in range(0,10):\n",
        "    x = int(input(\"\\n Enter the value : \"))\n",
        "    lst.append(x)\n",
        "\n",
        "#creating an empty list to append even numbers\n",
        "even_lst = []\n",
        "\n",
        "#appending only even numbers\n",
        "for i in lst:\n",
        "    if(i%2==0):\n",
        "      even_lst.append(i)\n",
        "\n",
        "print(\" \\n The even list is \",even_lst)"
      ],
      "execution_count": 15,
      "outputs": [
        {
          "output_type": "stream",
          "text": [
            "\n",
            " Enter the value : 1\n",
            "\n",
            " Enter the value : 2\n",
            "\n",
            " Enter the value : 3\n",
            "\n",
            " Enter the value : 4\n",
            "\n",
            " Enter the value : 5\n",
            "\n",
            " Enter the value : 6\n",
            "\n",
            " Enter the value : 7\n",
            "\n",
            " Enter the value : 8\n",
            "\n",
            " Enter the value : 9\n",
            "\n",
            " Enter the value : 10\n",
            " \n",
            " The even list is  [2, 4, 6, 8, 10]\n"
          ],
          "name": "stdout"
        }
      ]
    },
    {
      "cell_type": "markdown",
      "metadata": {
        "id": "1363RqN6YNsO"
      },
      "source": [
        "**QUESTION 2**\n",
        "Create a notebook on LIST COMPREHENSION. This exercise is to put you in a Self learning mode. List comprehensions are used for creating new lists from other iterables. As list comprehensions return lists, they consist of brackets containing the expression, which is executed for each element along with the for loop to iterate over each element. Syntax: new_list = (value for_loop condition)"
      ]
    },
    {
      "cell_type": "code",
      "metadata": {
        "id": "cqGV1fs9dnVu",
        "outputId": "cfc7a1e9-c436-4e19-a1be-9e1ed99465dd",
        "colab": {
          "base_uri": "https://localhost:8080/"
        }
      },
      "source": [
        "#creating a list\n",
        "lst=[1,2,3,4,5,6,7,8]\n",
        "\n",
        "#list comprehensions\n",
        "even_lst = [i for i in lst if i%2==0]\n",
        "\n",
        "print(even_lst)"
      ],
      "execution_count": 16,
      "outputs": [
        {
          "output_type": "stream",
          "text": [
            "[2, 4, 6, 8]\n"
          ],
          "name": "stdout"
        }
      ]
    },
    {
      "cell_type": "markdown",
      "metadata": {
        "id": "wsndEQUPd7sa"
      },
      "source": [
        "**QUESTION 3**\n",
        "Given a number n, you have to write a program that generates a dictionary d which contains(i, i*i), where i is from 1 to n (both included)."
      ]
    },
    {
      "cell_type": "code",
      "metadata": {
        "id": "HdVctkpud5e9",
        "outputId": "b36d3160-fc30-4f7e-aedc-588d3a9fcf3e",
        "colab": {
          "base_uri": "https://localhost:8080/"
        }
      },
      "source": [
        "#creating a empty dict\n",
        "dict = {}\n",
        " \n",
        "\n",
        "# getting value for \"n\" from user\n",
        "n = int(input())\n",
        "\n",
        "for i in range(1,n+1):\n",
        "   dict[i]=i*i\n",
        "\n",
        "print(dict)"
      ],
      "execution_count": 17,
      "outputs": [
        {
          "output_type": "stream",
          "text": [
            "8\n",
            "{1: 1, 2: 4, 3: 9, 4: 16, 5: 25, 6: 36, 7: 49, 8: 64}\n"
          ],
          "name": "stdout"
        }
      ]
    },
    {
      "cell_type": "markdown",
      "metadata": {
        "id": "K17MZ5ZMe33N"
      },
      "source": [
        "**QUESTION 4**\n",
        "Write a program to compute the distance between the current position after a sequence of movement and original point. If the distance is a float, then just print the nearest integer (use round() function fot that and then convert it into an integer)."
      ]
    },
    {
      "cell_type": "code",
      "metadata": {
        "id": "En9U_BiWfbHn",
        "outputId": "1eebf5a2-c661-4340-d09b-3202b631e76b",
        "colab": {
          "base_uri": "https://localhost:8080/"
        }
      },
      "source": [
        "#  creating a origin position\n",
        "pos = {\"x\":0,\"y\":0}\n",
        "\n",
        "# getting movement from user\n",
        "n = int(input())\n",
        "\n",
        "# for loop\n",
        "for i in range (n):\n",
        "    move =  input().split(\" \")      # ACCEPT MOVEMENT COMMAND AND STORE AS A LIST\n",
        "    \n",
        "    if move[0].lower() == \"up\":     # EXTRACT DIRECTION AND COMPARE\n",
        "        pos[\"y\"] += int(move[1])    # INCREMENT/DECREMENT APPROPRIATE CO-ORDINATES\n",
        "    \n",
        "    elif move[0].lower() == \"down\":\n",
        "        pos[\"y\"] -= int(move[1])\n",
        "    \n",
        "    elif move[0].lower() == \"left\":\n",
        "        pos[\"x\"] -= int(move[1])\n",
        "    \n",
        "    elif move[0].lower() == \"right\":\n",
        "        pos[\"x\"] += int(move[1])\n",
        "\n",
        "#  printing the result\n",
        "\n",
        "print(int(round((pos[\"x\"]**2 + pos[\"y\"]**2)**0.5)))   # DISTANCE FROM ORIGIN\n"
      ],
      "execution_count": 22,
      "outputs": [
        {
          "output_type": "stream",
          "text": [
            "4\n",
            "UP 5\n",
            "DOWN 3\n",
            "LEFT 3\n",
            "RIGHT 2\n",
            "2\n"
          ],
          "name": "stdout"
        }
      ]
    }
  ]
}